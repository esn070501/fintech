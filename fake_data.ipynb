{
 "cells": [
  {
   "cell_type": "code",
   "execution_count": 1,
   "metadata": {},
   "outputs": [],
   "source": [
    "from faker import Faker\n",
    "import random\n",
    "from datetime import datetime, timedelta\n",
    "import pandas as pd\n",
    "import math"
   ]
  },
  {
   "cell_type": "code",
   "execution_count": 2,
   "metadata": {},
   "outputs": [],
   "source": [
    "def basline_premium(dcurrent, daverage, alpha):\n",
    "    return alpha * (dcurrent/daverage)\n",
    "\n",
    "def calculate_dcurrent(group):\n",
    "    return group.rolling('10T', on='timestamp').count()['price']\n",
    "\n",
    "def demand_modifier(alpha):\n",
    "    return math.exp(-2 * alpha) "
   ]
  },
  {
   "cell_type": "code",
   "execution_count": 3,
   "metadata": {},
   "outputs": [],
   "source": [
    "fake = Faker()\n",
    "\n",
    "def generate_event_data(num_events, base_orders_per_event):\n",
    "    events_data = []\n",
    "    \n",
    "    for _ in range(num_events):\n",
    "        event_location = fake.city()\n",
    "        event_start = fake.date_time_between(start_date='-1y', end_date='now')\n",
    "        event_alpha = round(random.uniform(0.1, 1.0), 1)  # Alpha between 0.1 and 1.0\n",
    "        \n",
    "        # Adjust number of orders based on alpha\n",
    "        adjusted_orders = int(base_orders_per_event * demand_modifier(event_alpha))\n",
    "        \n",
    "        for _ in range(adjusted_orders):\n",
    "            order_time = event_start + timedelta(minutes=random.randint(0, 240))  # Orders within 4 hours of event start\n",
    "            price = round(random.uniform(5, 30), 2)  # Price between $5 and $30\n",
    "            \n",
    "            events_data.append({\n",
    "                'location': event_location,\n",
    "                'timestamp': order_time,\n",
    "                'price': price,\n",
    "                'alpha': event_alpha\n",
    "            })\n",
    "    \n",
    "    return events_data\n",
    "\n",
    "# Generate data for 50 events, with a base of 500-1000 orders (before alpha adjustment)\n",
    "event_data = generate_event_data(50, random.randint(500, 1000))"
   ]
  },
  {
   "cell_type": "code",
   "execution_count": 4,
   "metadata": {},
   "outputs": [],
   "source": [
    "event_data = pd.DataFrame(event_data)\n",
    "\n",
    "# if an event is at the same location and day, assign it the same event_id\n",
    "event_data['event_id'] = event_data.groupby(['location', event_data['timestamp'].dt.date]) \\\n",
    "    .ngroup()"
   ]
  },
  {
   "cell_type": "code",
   "execution_count": 5,
   "metadata": {},
   "outputs": [],
   "source": [
    "event_data['timestamp'] = pd.to_datetime(event_data['timestamp'])\n",
    "\n",
    "event_data = event_data.sort_values(['event_id', 'timestamp'])\n",
    "\n",
    "event_data['Dcurrent'] = event_data.groupby('event_id').apply(calculate_dcurrent).reset_index(level=0, drop=True)\n",
    "\n",
    "event_data['Daverage'] = event_data.groupby('location')['Dcurrent'].transform('mean')\n",
    "\n",
    "event_data['baseline_premium'] = event_data.apply(lambda x: basline_premium(x['Dcurrent'], x['Daverage'], x['alpha']), axis=1)\n",
    "\n",
    "event_data['price_for_order'] = (1 + event_data['baseline_premium']) * event_data['price']\n",
    "\n",
    "event_data['absolute_premium'] = event_data['price_for_order'] - event_data['price']\n",
    "\n",
    "event_data['profit_deliverer'] = event_data['absolute_premium'] * 0.9\n",
    "\n",
    "event_data['profit_platform'] = event_data['absolute_premium'] * 0.1"
   ]
  },
  {
   "cell_type": "code",
   "execution_count": 6,
   "metadata": {},
   "outputs": [],
   "source": [
    "# group by event_id and sum the profits for the platform and keep the alpha\n",
    "event_data_grouped = event_data.groupby('event_id').agg({\n",
    "    'profit_deliverer': 'sum',\n",
    "    'profit_platform': 'sum',\n",
    "    'alpha': 'first'\n",
    "})\n"
   ]
  },
  {
   "cell_type": "code",
   "execution_count": 7,
   "metadata": {},
   "outputs": [],
   "source": [
    "alpha_grouped = event_data_grouped.groupby('alpha').agg({\n",
    "    'profit_deliverer': 'mean',\n",
    "    'profit_platform': 'mean'\n",
    "})"
   ]
  },
  {
   "cell_type": "code",
   "execution_count": 8,
   "metadata": {},
   "outputs": [
    {
     "data": {
      "text/html": [
       "<div>\n",
       "<style scoped>\n",
       "    .dataframe tbody tr th:only-of-type {\n",
       "        vertical-align: middle;\n",
       "    }\n",
       "\n",
       "    .dataframe tbody tr th {\n",
       "        vertical-align: top;\n",
       "    }\n",
       "\n",
       "    .dataframe thead th {\n",
       "        text-align: right;\n",
       "    }\n",
       "</style>\n",
       "<table border=\"1\" class=\"dataframe\">\n",
       "  <thead>\n",
       "    <tr style=\"text-align: right;\">\n",
       "      <th></th>\n",
       "      <th>profit_deliverer</th>\n",
       "      <th>profit_platform</th>\n",
       "    </tr>\n",
       "    <tr>\n",
       "      <th>alpha</th>\n",
       "      <th></th>\n",
       "      <th></th>\n",
       "    </tr>\n",
       "  </thead>\n",
       "  <tbody>\n",
       "    <tr>\n",
       "      <th>0.1</th>\n",
       "      <td>645.902328</td>\n",
       "      <td>71.766925</td>\n",
       "    </tr>\n",
       "    <tr>\n",
       "      <th>0.2</th>\n",
       "      <td>1376.001941</td>\n",
       "      <td>152.889105</td>\n",
       "    </tr>\n",
       "    <tr>\n",
       "      <th>0.3</th>\n",
       "      <td>1565.958040</td>\n",
       "      <td>173.995338</td>\n",
       "    </tr>\n",
       "    <tr>\n",
       "      <th>0.4</th>\n",
       "      <td>1875.738980</td>\n",
       "      <td>208.415442</td>\n",
       "    </tr>\n",
       "    <tr>\n",
       "      <th>0.5</th>\n",
       "      <td>1899.152810</td>\n",
       "      <td>211.016979</td>\n",
       "    </tr>\n",
       "    <tr>\n",
       "      <th>0.6</th>\n",
       "      <td>1907.219925</td>\n",
       "      <td>211.913325</td>\n",
       "    </tr>\n",
       "    <tr>\n",
       "      <th>0.7</th>\n",
       "      <td>1796.947726</td>\n",
       "      <td>199.660858</td>\n",
       "    </tr>\n",
       "    <tr>\n",
       "      <th>0.8</th>\n",
       "      <td>1305.584231</td>\n",
       "      <td>145.064915</td>\n",
       "    </tr>\n",
       "    <tr>\n",
       "      <th>0.9</th>\n",
       "      <td>1546.504809</td>\n",
       "      <td>171.833868</td>\n",
       "    </tr>\n",
       "    <tr>\n",
       "      <th>1.0</th>\n",
       "      <td>1446.700254</td>\n",
       "      <td>160.744473</td>\n",
       "    </tr>\n",
       "  </tbody>\n",
       "</table>\n",
       "</div>"
      ],
      "text/plain": [
       "       profit_deliverer  profit_platform\n",
       "alpha                                   \n",
       "0.1          645.902328        71.766925\n",
       "0.2         1376.001941       152.889105\n",
       "0.3         1565.958040       173.995338\n",
       "0.4         1875.738980       208.415442\n",
       "0.5         1899.152810       211.016979\n",
       "0.6         1907.219925       211.913325\n",
       "0.7         1796.947726       199.660858\n",
       "0.8         1305.584231       145.064915\n",
       "0.9         1546.504809       171.833868\n",
       "1.0         1446.700254       160.744473"
      ]
     },
     "execution_count": 8,
     "metadata": {},
     "output_type": "execute_result"
    }
   ],
   "source": [
    "alpha_grouped"
   ]
  },
  {
   "cell_type": "code",
   "execution_count": 92,
   "metadata": {},
   "outputs": [
    {
     "data": {
      "text/html": [
       "<div>\n",
       "<style scoped>\n",
       "    .dataframe tbody tr th:only-of-type {\n",
       "        vertical-align: middle;\n",
       "    }\n",
       "\n",
       "    .dataframe tbody tr th {\n",
       "        vertical-align: top;\n",
       "    }\n",
       "\n",
       "    .dataframe thead th {\n",
       "        text-align: right;\n",
       "    }\n",
       "</style>\n",
       "<table border=\"1\" class=\"dataframe\">\n",
       "  <thead>\n",
       "    <tr style=\"text-align: right;\">\n",
       "      <th></th>\n",
       "      <th>location</th>\n",
       "      <th>timestamp</th>\n",
       "      <th>price</th>\n",
       "      <th>alpha</th>\n",
       "      <th>event_id</th>\n",
       "      <th>Dcurrent</th>\n",
       "      <th>Daverage</th>\n",
       "      <th>baseline_premium</th>\n",
       "      <th>price_for_order</th>\n",
       "      <th>absolute_premium</th>\n",
       "      <th>profit_deliverer</th>\n",
       "      <th>profit_platform</th>\n",
       "    </tr>\n",
       "  </thead>\n",
       "  <tbody>\n",
       "  </tbody>\n",
       "</table>\n",
       "</div>"
      ],
      "text/plain": [
       "Empty DataFrame\n",
       "Columns: [location, timestamp, price, alpha, event_id, Dcurrent, Daverage, baseline_premium, price_for_order, absolute_premium, profit_deliverer, profit_platform]\n",
       "Index: []"
      ]
     },
     "execution_count": 92,
     "metadata": {},
     "output_type": "execute_result"
    }
   ],
   "source": [
    "# replace location with one of the ones used earlier"
   ]
  },
  {
   "cell_type": "code",
   "execution_count": null,
   "metadata": {},
   "outputs": [],
   "source": []
  }
 ],
 "metadata": {
  "kernelspec": {
   "display_name": "base",
   "language": "python",
   "name": "python3"
  },
  "language_info": {
   "codemirror_mode": {
    "name": "ipython",
    "version": 3
   },
   "file_extension": ".py",
   "mimetype": "text/x-python",
   "name": "python",
   "nbconvert_exporter": "python",
   "pygments_lexer": "ipython3",
   "version": "3.11.5"
  }
 },
 "nbformat": 4,
 "nbformat_minor": 2
}
